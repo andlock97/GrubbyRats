{
 "cells": [
  {
   "cell_type": "code",
   "execution_count": 2,
   "id": "33c493fd",
   "metadata": {},
   "outputs": [],
   "source": [
    "#@title Data retrieval\n",
    "import os, requests, pdb\n",
    "\n",
    "fname = []\n",
    "for j in range(3):\n",
    "  fname.append('steinmetz_part%d.npz'%j)\n",
    "url = [\"https://osf.io/agvxh/download\"]\n",
    "url.append(\"https://osf.io/uv3mw/download\")\n",
    "url.append(\"https://osf.io/ehmw2/download\")\n",
    "\n",
    "for j in range(len(url)):\n",
    "  if not os.path.isfile(fname[j]):\n",
    "    try:\n",
    "      r = requests.get(url[j])\n",
    "    except requests.ConnectionError:\n",
    "      print(\"!!! Failed to download data !!!\")\n",
    "    else:\n",
    "      if r.status_code != requests.codes.ok:\n",
    "        print(\"!!! Failed to download data !!!\")\n",
    "      else:\n",
    "        with open(fname[j], \"wb\") as fid:\n",
    "          fid.write(r.content)"
   ]
  },
  {
   "cell_type": "code",
   "execution_count": 25,
   "id": "2a17eba9",
   "metadata": {},
   "outputs": [],
   "source": [
    "#@title Import matplotlib and set defaults, import scikit learn\n",
    "from matplotlib import rcParams \n",
    "from matplotlib import pyplot as plt\n",
    "\n",
    "from sklearn.linear_model import LogisticRegression\n",
    "from sklearn.model_selection import cross_val_score\n",
    "\n",
    "rcParams['figure.figsize'] = [20, 4]\n",
    "rcParams['font.size'] =15\n",
    "rcParams['axes.spines.top'] = False\n",
    "rcParams['axes.spines.right'] = False\n",
    "rcParams['figure.autolayout'] = True"
   ]
  },
  {
   "cell_type": "code",
   "execution_count": 4,
   "id": "e727fe9c",
   "metadata": {},
   "outputs": [],
   "source": [
    "#@title Data loading\n",
    "import numpy as np\n",
    "\n",
    "alldat = np.array([])\n",
    "for j in range(len(fname)):\n",
    "    alldat = np.hstack((alldat, np.load('steinmetz_part%d.npz'%j, allow_pickle=True)['dat']))"
   ]
  },
  {
   "cell_type": "code",
   "execution_count": 81,
   "id": "35f6e602",
   "metadata": {},
   "outputs": [],
   "source": [
    "def getChoiceCells(dat):\n",
    "    #make array of choices. left choices = 1, right choices = 0, ignore no-go trials\n",
    "    LorR = dat['response']!=0 \n",
    "    choices = dat['response'][LorR]\n",
    "    choices[choices == -1] = 0\n",
    "    \n",
    "    #turn dat['spks'] into [n_neurons, n_trials] array of normalized firing rates on each trial\n",
    "    bins = 0.01 #10ms bins\n",
    "    trial_FR = np.sum(dat['spks'], axis=2) / (np.shape(dat['spks'])[2] * bins / 1000)\n",
    "    norm_FR = trial_FR[:,LorR] / np.mean(trial_FR) #array of normalized FR for each neuron in area on L or R choice trials (n_neurons x n_trials)\n",
    "    \n",
    "    # Define logistic regression model\n",
    "    log_reg = LogisticRegression(penalty=\"none\").fit(norm_FR.T, choices)\n",
    "    y_pred = log_reg.predict(norm_FR.T)\n",
    "    accuracy = (choices == y_pred).mean()\n",
    "    \n",
    "    most_predictive = np.quantile(log_reg.coef_, [0.10, 0.90])\n",
    "    ispi_cells = log_reg.coef_ > most_predictive[1]\n",
    "    contra_cells = log_reg.coef_ < most_predictive[0]\n",
    "    \n",
    "    return ispi_cells, contra_cells\n",
    "\n",
    "def plot_weights(models, sharey=True):\n",
    "    \"\"\"Draw a stem plot of weights for each model in models dict.\"\"\"\n",
    "    n = len(models)\n",
    "    f = plt.figure(figsize=(10, 2.5 * n))\n",
    "    axs = f.subplots(n, sharex=True, sharey=sharey)\n",
    "    axs = np.atleast_1d(axs)\n",
    "\n",
    "    for ax, (title, model) in zip(axs, models.items()):\n",
    "\n",
    "        ax.margins(x=.02)\n",
    "        stem = ax.stem(model.coef_.squeeze(), use_line_collection=True)\n",
    "        stem[0].set_marker(\".\")\n",
    "        stem[0].set_color(\".2\")\n",
    "        stem[1].set_linewidths(.5)\n",
    "        stem[1].set_color(\".2\")\n",
    "        stem[2].set_visible(False)\n",
    "        ax.axhline(0, color=\"C3\", lw=3)\n",
    "        ax.set(ylabel=\"Weight\", title=title)\n",
    "    ax.set(xlabel=\"Neuron (a.k.a. feature)\")\n",
    "    f.tight_layout()"
   ]
  },
  {
   "cell_type": "code",
   "execution_count": 76,
   "id": "819c93a5",
   "metadata": {},
   "outputs": [
    {
     "name": "stdout",
     "output_type": "stream",
     "text": [
      "[-0.8260442   0.77087488]\n"
     ]
    }
   ],
   "source": [
    "pos_weights = np.quantile(log_reg.coef_, [0.10, 0.90])\n",
    "print(pos_weights)"
   ]
  }
 ],
 "metadata": {
  "kernelspec": {
   "display_name": "Python 3",
   "language": "python",
   "name": "python3"
  },
  "language_info": {
   "codemirror_mode": {
    "name": "ipython",
    "version": 3
   },
   "file_extension": ".py",
   "mimetype": "text/x-python",
   "name": "python",
   "nbconvert_exporter": "python",
   "pygments_lexer": "ipython3",
   "version": "3.7.10"
  }
 },
 "nbformat": 4,
 "nbformat_minor": 5
}
