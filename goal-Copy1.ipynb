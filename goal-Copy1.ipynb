{
 "cells": [
  {
   "cell_type": "markdown",
   "metadata": {
    "colab_type": "text",
    "id": "bEqdz1ZUMaj1"
   },
   "source": [
    "## Loading of Steinmetz data\n",
    "\n",
    "includes some visualizations"
   ]
  },
  {
   "cell_type": "code",
   "execution_count": 1,
   "metadata": {
    "cellView": "form",
    "colab": {},
    "colab_type": "code",
    "id": "TLWjKq8bLDqm"
   },
   "outputs": [],
   "source": [
    "#@title Data retrieval\n",
    "import os, requests,pdb\n",
    "\n",
    "fname = []\n",
    "for j in range(3):\n",
    "  fname.append('steinmetz_part%d.npz'%j)\n",
    "url = [\"https://osf.io/agvxh/download\"]\n",
    "url.append(\"https://osf.io/uv3mw/download\")\n",
    "url.append(\"https://osf.io/ehmw2/download\")\n",
    "\n",
    "for j in range(len(url)):\n",
    "  if not os.path.isfile(fname[j]):\n",
    "    try:\n",
    "      r = requests.get(url[j])\n",
    "    except requests.ConnectionError:\n",
    "      print(\"!!! Failed to download data !!!\")\n",
    "    else:\n",
    "      if r.status_code != requests.codes.ok:\n",
    "        print(\"!!! Failed to download data !!!\")\n",
    "      else:\n",
    "        with open(fname[j], \"wb\") as fid:\n",
    "          fid.write(r.content)\n"
   ]
  },
  {
   "cell_type": "code",
   "execution_count": 2,
   "metadata": {
    "cellView": "form",
    "colab": {},
    "colab_type": "code",
    "id": "raBVOEWgUK_B"
   },
   "outputs": [],
   "source": [
    "#@title Import matplotlib and set defaults\n",
    "from matplotlib import rcParams \n",
    "from matplotlib import pyplot as plt\n",
    "from sklearn.linear_model import LogisticRegression\n",
    "from sklearn.model_selection import cross_val_score\n",
    "rcParams['figure.figsize'] = [20, 4]\n",
    "rcParams['font.size'] =15\n",
    "rcParams['axes.spines.top'] = False\n",
    "rcParams['axes.spines.right'] = False\n",
    "rcParams['figure.autolayout'] = True"
   ]
  },
  {
   "cell_type": "code",
   "execution_count": 3,
   "metadata": {
    "colab": {
     "base_uri": "https://localhost:8080/",
     "height": 54
    },
    "colab_type": "code",
    "id": "sffzC_hyLgWZ",
    "outputId": "c1f86370-a550-4d9b-db3f-2913cc208402",
    "scrolled": true
   },
   "outputs": [
    {
     "name": "stdout",
     "output_type": "stream",
     "text": [
      "dict_keys(['spks', 'wheel', 'pupil', 'response', 'response_time', 'bin_size', 'stim_onset', 'contrast_right', 'contrast_left', 'brain_area', 'feedback_time', 'feedback_type', 'gocue', 'mouse_name', 'date_exp', 'trough_to_peak', 'active_trials', 'contrast_left_passive', 'contrast_right_passive', 'spks_passive', 'pupil_passive', 'wheel_passive', 'prev_reward', 'ccf', 'ccf_axes', 'cellid_orig', 'reaction_time', 'face', 'face_passive', 'licks', 'licks_passive'])\n"
     ]
    }
   ],
   "source": [
    "#@title Data loading\n",
    "import numpy as np\n",
    "\n",
    "alldat = np.array([])\n",
    "for j in range(len(fname)):\n",
    "  alldat = np.hstack((alldat, np.load('steinmetz_part%d.npz'%j, allow_pickle=True)['dat']))\n",
    "\n",
    "# select just one of the recordings here. 11 is nice because it has some neurons in vis ctx. \n",
    "dat = alldat[11]\n",
    "print(dat.keys())"
   ]
  },
  {
   "cell_type": "markdown",
   "metadata": {
    "colab_type": "text",
    "id": "5K7UT7dyj_6R"
   },
   "source": [
    "`alldat` contains 39 sessions from 10 mice, data from Steinmetz et al, 2019. Time bins for all measurements are 10ms, starting 500ms before stimulus onset. The mouse had to determine which side has the highest contrast. For each `dat = alldat[k]`, you have the fields below. For extra variables, check out the extra notebook and extra data files (lfp, waveforms and exact spike times, non-binned). \n",
    "\n",
    "* `dat['mouse_name']`: mouse name\n",
    "* `dat['date_exp']`: when a session was performed\n",
    "* `dat['spks']`: neurons by trials by time bins.    \n",
    "* `dat['brain_area']`: brain area for each neuron recorded. \n",
    "* `dat['ccf']`: Allen Institute brain atlas coordinates for each neuron. \n",
    "* `dat['ccf_axes']`: axes names for the Allen CCF. \n",
    "* `dat['contrast_right']`: contrast level for the right stimulus, which is always contralateral to the recorded brain areas.\n",
    "* `dat['contrast_left']`: contrast level for left stimulus. \n",
    "* `dat['gocue']`: when the go cue sound was played. \n",
    "* `dat['response_times']`: when the response was registered, which has to be after the go cue. The mouse can turn the wheel before the go cue (and nearly always does!), but the stimulus on the screen won't move before the go cue.  \n",
    "* `dat['response']`: which side the response was (`-1`, `0`, `1`). When the right-side stimulus had higher contrast, the correct choice was `-1`. `0` is a no go response. \n",
    "* `dat['feedback_time']`: when feedback was provided. \n",
    "* `dat['feedback_type']`: if the feedback was positive (`+1`, reward) or negative (`-1`, white noise burst).  \n",
    "* `dat['wheel']`: turning speed of the wheel that the mice uses to make a response, sampled at `10ms`. \n",
    "* `dat['pupil']`: pupil area  (noisy, because pupil is very small) + pupil horizontal and vertical position.\n",
    "* `dat['face']`: average face motion energy from a video camera. \n",
    "* `dat['licks']`: lick detections, 0 or 1.   \n",
    "* `dat['trough_to_peak']`: measures the width of the action potential waveform for each neuron. Widths `<=10` samples are \"putative fast spiking neurons\". \n",
    "* `dat['%X%_passive']`: same as above for `X` = {`spks`, `pupil`, `wheel`, `contrast_left`, `contrast_right`} but for  passive trials at the end of the recording when the mouse was no longer engaged and stopped making responses. \n",
    "* `dat['prev_reward']`: time of the feedback (reward/white noise) on the previous trial in relation to the current stimulus time. \n",
    "* `dat['reaction_time']`: ntrials by 2. First column: reaction time computed from the wheel movement as the first sample above `5` ticks/10ms bin. Second column: direction of the wheel movement (`0` = no move detected).  \n",
    "\n",
    "\n"
   ]
  },
  {
   "cell_type": "code",
   "execution_count": 4,
   "metadata": {},
   "outputs": [],
   "source": [
    "def region_finder(region):\n",
    "    # Find sessions with areas of interest\n",
    "    session_idx = []\n",
    "    neuron_idx = []\n",
    "    for i in range(39):\n",
    "        dat = alldat[i]\n",
    "        areas = dat['brain_area']\n",
    "        decision = areas==region\n",
    "        if any(decision):\n",
    "            n = [j for j, x in enumerate(decision) if x]\n",
    "            session_idx.append(i)\n",
    "            neuron_idx.append(n)\n",
    "            #pdb.set_trace()\n",
    "    return session_idx, neuron_idx"
   ]
  },
  {
   "cell_type": "code",
   "execution_count": null,
   "metadata": {},
   "outputs": [],
   "source": [
    "session_idx, neuron_idx = region_finder(\"MOs\")\n",
    "dat = alldat[session_idx[1]]\n",
    "print(dat.keys())\n",
    "\n",
    "dt = dat['bin_size'] # binning at 10 ms\n",
    "zebras = dat['spks']\n",
    "zebras = zebras[neuron_idx[1]]\n",
    "NT = zebras.shape[-1]\n",
    "pdb.set_trace()\n",
    "#ax = plt.subplot(1,5,1)\n",
    "ax = plt.subplot(1,1,1)\n",
    "plt.plot(dt * np.arange(NT), 1/dt * dat['spks'][:,response>=0].mean(axis=(0,1)))\n",
    "#response = dat['response'] # right - nogo - left (-1, 0, 1)\n",
    "#vis_right = dat['contrast_right'] # 0 - low - high\n",
    "#vis_left = dat['contrast_left'] # 0 - low - high\n",
    "#plt.plot(dt * np.arange(NT), 1/dt * dat['spks'][:,response>=0].mean(axis=(0,1))) # left responses\n",
    "#plt.plot(dt * np.arange(NT), 1/dt * dat['spks'][:,response<0].mean(axis=(0,1))) # right responses\n",
    "#plt.plot(dt * np.arange(NT), 1/dt * dat['spks'][:,vis_right>0].mean(axis=(0,1))) # stimulus on the right\n",
    "#plt.plot(dt * np.arange(NT), 1/dt * dat['spks'][:,vis_right==0].mean(axis=(0,1))) # no stimulus on the right\n",
    "\n",
    "#plt.legend(['left resp', 'right resp', 'right stim', 'no right stim'], fontsize=12)\n",
    "#ax.set(xlabel  = 'time (sec)', ylabel = 'firing rate (Hz)');"
   ]
  },
  {
   "cell_type": "code",
   "execution_count": 5,
   "metadata": {},
   "outputs": [
    {
     "name": "stdout",
     "output_type": "stream",
     "text": [
      "[1.   0.   0.5  0.   0.   0.   0.   1.   0.   0.   1.   0.5  0.25 1.\n",
      " 0.25 0.25 0.25 0.5  0.   0.   0.   1.   1.   0.5  0.   0.5  0.   0.\n",
      " 0.   0.   1.   0.25 1.   0.   0.   0.   0.25 0.   0.   0.   0.   0.25\n",
      " 0.   1.   0.5  0.25 0.   0.   0.   0.   0.   0.   0.   0.5  1.   0.5\n",
      " 0.5  0.   0.   0.   1.   0.   0.   0.25 0.25 1.   0.   1.   0.   0.\n",
      " 0.   0.   1.   0.   1.   0.25 0.25 0.   0.   0.5  0.5  0.   0.5  1.\n",
      " 0.   0.25 0.   0.   0.   0.   0.25 1.   1.   0.25 0.   0.   0.   0.25\n",
      " 0.25 0.   0.5  0.5  1.   1.   0.   0.   0.   0.   0.   0.   1.   0.25\n",
      " 0.5  0.   0.   0.25 0.   0.   0.   0.   0.   0.   0.   0.5  0.   0.\n",
      " 0.   0.   1.   0.   0.5  0.25 0.25 0.25 0.25 0.25 0.25 0.   1.   1.\n",
      " 1.   0.   0.   0.5  0.5  0.   0.   0.   0.   1.   1.   1.   1.   1.\n",
      " 1.   1.   1.   1.   1.   1.   1.   1.   1.   1.   0.   1.   0.5  0.\n",
      " 0.   0.   0.   0.   0.   1.   0.   0.   1.   0.   0.5  1.   1.   0.5\n",
      " 0.25 0.25 0.25 0.25 0.   0.5  0.5  0.5  0.5  0.25 0.25 0.5  1.   0.5\n",
      " 0.   0.   0.   0.   0.25 0.5  0.25 0.   0.5  1.   0.5  0.25 0.   0.\n",
      " 1.   1.   0.25 0.25 0.   0.5  1.   1.   1.   1.   1.   0.   0.   0.\n",
      " 0.5  0.   0.   0.   0.25 0.   0.25 0.25 0.   0.   0.   0.5  0.25 0.\n",
      " 0.   0.   0.25 0.   0.   0.   1.   1.   1.   1.   1.   1.   1.  ]\n"
     ]
    }
   ],
   "source": [
    "import pdb\n",
    "dat=alldat[1]\n",
    "print(dat['contrast_right'])"
   ]
  },
  {
   "cell_type": "code",
   "execution_count": 6,
   "metadata": {},
   "outputs": [
    {
     "ename": "SyntaxError",
     "evalue": "invalid syntax (<ipython-input-6-a64fb4ff6561>, line 10)",
     "output_type": "error",
     "traceback": [
      "\u001b[1;36m  File \u001b[1;32m\"<ipython-input-6-a64fb4ff6561>\"\u001b[1;36m, line \u001b[1;32m10\u001b[0m\n\u001b[1;33m    if dataset[word][i] > dataset[other][i]\u001b[0m\n\u001b[1;37m                                           ^\u001b[0m\n\u001b[1;31mSyntaxError\u001b[0m\u001b[1;31m:\u001b[0m invalid syntax\n"
     ]
    }
   ],
   "source": [
    "def what_side(dataset,contrast_choice):\n",
    "    saver=[]\n",
    "    if contrast_choice == 'Contralateral':\n",
    "        word='contrast_right'\n",
    "        other='contrast_left'\n",
    "    else:\n",
    "        word='contrast_left'\n",
    "        other='contrast_right'\n",
    "    for i in range(len(dataset[word])):\n",
    "        if dataset[word][i] > dataset[other][i]\n",
    "        #dataset[word][i] >0. and dataset[other][i] >0.:\n",
    "            #pdb.set_trace()\n",
    "            saver.append(i)\n",
    "    return saver\n",
    "    "
   ]
  },
  {
   "cell_type": "code",
   "execution_count": null,
   "metadata": {},
   "outputs": [],
   "source": [
    "what_side(dat,'Ipsilateral')"
   ]
  },
  {
   "cell_type": "code",
   "execution_count": 18,
   "metadata": {
    "colab": {
     "base_uri": "https://localhost:8080/",
     "height": 287
    },
    "colab_type": "code",
    "id": "mmOarX5w16CR",
    "outputId": "840bb76a-a300-49e3-a228-a028eb84473c"
   },
   "outputs": [
    {
     "name": "stderr",
     "output_type": "stream",
     "text": [
      "C:\\Users\\Andrew\\.conda\\envs\\nma\\lib\\site-packages\\IPython\\core\\events.py:89: UserWarning: tight_layout not applied: number of columns in subplot specifications must be multiples of one another.\n",
      "  func(*args, **kwargs)\n"
     ]
    }
   ],
   "source": [
    "#@title basic plots of population average\n",
    "from matplotlib import pyplot as plt\n",
    "dt = dat['bin_size'] # binning at 10 ms\n",
    "NT = dat['spks'].shape[-1]\n",
    "\n",
    "ax = plt.subplot(1,5,1)\n",
    "response = dat['response'] # right - nogo - left (-1, 0, 1)\n",
    "vis_right = dat['contrast_right'] # 0 - low - high\n",
    "vis_left = dat['contrast_left'] # 0 - low - high\n",
    "plt.plot(dt * np.arange(NT), 1/dt * dat['spks'][:,response>=0].mean(axis=(0,1))) # left responses\n",
    "plt.plot(dt * np.arange(NT), 1/dt * dat['spks'][:,response<0].mean(axis=(0,1))) # right responses\n",
    "plt.plot(dt * np.arange(NT), 1/dt * dat['spks'][:,vis_right>0].mean(axis=(0,1))) # stimulus on the right\n",
    "plt.plot(dt * np.arange(NT), 1/dt * dat['spks'][:,vis_right==0].mean(axis=(0,1))) # no stimulus on the right\n",
    "\n",
    "plt.legend(['left resp', 'right resp', 'right stim', 'no right stim'], fontsize=12)\n",
    "ax.set(xlabel  = 'time (sec)', ylabel = 'firing rate (Hz)');"
   ]
  },
  {
   "cell_type": "code",
   "execution_count": null,
   "metadata": {
    "colab": {},
    "colab_type": "code",
    "id": "JYhiUDTi1uAZ"
   },
   "outputs": [],
   "source": [
    "# groupings of brain regions\n",
    "regions = [\"vis ctx\", \"thal\", \"hipp\", \"other ctx\", \"midbrain\", \"basal ganglia\", \"cortical subplate\", \"other\"]\n",
    "brain_groups = [[\"VISa\", \"VISam\", \"VISl\", \"VISp\", \"VISpm\", \"VISrl\"], # visual cortex\n",
    "                [\"CL\", \"LD\", \"LGd\", \"LH\", \"LP\", \"MD\", \"MG\", \"PO\", \"POL\", \"PT\", \"RT\", \"SPF\", \"TH\", \"VAL\", \"VPL\", \"VPM\"], # thalamus\n",
    "                [\"CA\", \"CA1\", \"CA2\", \"CA3\", \"DG\", \"SUB\", \"POST\"], # hippocampal\n",
    "                [\"ACA\", \"AUD\", \"COA\", \"DP\", \"ILA\", \"MOp\", \"MOs\", \"OLF\", \"ORB\", \"ORBm\", \"PIR\", \"PL\", \"SSp\", \"SSs\", \"RSP\",\" TT\"], # non-visual cortex\n",
    "                [\"APN\", \"IC\", \"MB\", \"MRN\", \"NB\", \"PAG\", \"RN\", \"SCs\", \"SCm\", \"SCig\", \"SCsg\", \"ZI\"], # midbrain\n",
    "                [\"ACB\", \"CP\", \"GPe\", \"LS\", \"LSc\", \"LSr\", \"MS\", \"OT\", \"SNr\", \"SI\"], # basal ganglia \n",
    "                [\"BLA\", \"BMA\", \"EP\", \"EPd\", \"MEA\"] # cortical subplate\n",
    "                ]\n",
    "\n",
    "nareas = 4 # only the top 4 regions are in this particular mouse\n",
    "NN = len(dat['brain_area']) # number of neurons\n",
    "barea = nareas * np.ones(NN, ) # last one is \"other\"\n",
    "for j in range(nareas):\n",
    "  barea[np.isin(dat['brain_area'], brain_groups[j])] = j # assign a number to each region"
   ]
  },
  {
   "cell_type": "code",
   "execution_count": null,
   "metadata": {},
   "outputs": [],
   "source": [
    "#Below is the code for the project\n",
    "#\n",
    "#\n",
    "#\n",
    "#\n",
    "#"
   ]
  },
  {
   "cell_type": "code",
   "execution_count": null,
   "metadata": {},
   "outputs": [],
   "source": [
    "def get_region_data(region):\n",
    "    session_idx ,neuron_idx = region_finder(region) \n",
    "\n",
    "    region_spiketimes = {} #create a dictionary with {}\n",
    "    region_lfp = {}\n",
    "    for is_session in session_idx:\n",
    "        region_neurons = np.where(alldat[is_session][\"brain_area\"] == region)[0]\n",
    "        region_spiketimes[is_session] = {}\n",
    "        #region_lfp[is_session] = {}\n",
    "        for neuron in region_neurons: \n",
    "                                 #visual_FR_test[(is_session,neuron)]=alldat[is_session][\"spks\"][neuron,:,:]\n",
    "            region_spiketimes[is_session][neuron]=alldat[is_session][\"spks\"][neuron,:,:] \n",
    "            #region_lfp[is_session][neuron]=alldat[is_session][\"spks\"][neuron,:,:] \n",
    "            #rgion_spiketimes first key is session number (only included are those with selected brain region). \n",
    "            # Then neuron number from that brain region.\n",
    " \n",
    "    return region_spiketimes\n",
    "\n",
    "region = \"VISp\" #primary visual cortex\n",
    "region_spiketimes = get_region_data(region)"
   ]
  },
  {
   "cell_type": "code",
   "execution_count": 11,
   "metadata": {},
   "outputs": [
    {
     "name": "stdout",
     "output_type": "stream",
     "text": [
      "--Return--\n",
      "None\n",
      "> \u001b[1;32m<ipython-input-11-6f11b2351bc1>\u001b[0m(27)\u001b[0;36m<module>\u001b[1;34m()\u001b[0m\n",
      "\u001b[1;32m     25 \u001b[1;33m\u001b[1;31m#datter=datter[:,dat['feedback_type']>0]\u001b[0m\u001b[1;33m\u001b[0m\u001b[1;33m\u001b[0m\u001b[1;33m\u001b[0m\u001b[0m\n",
      "\u001b[0m\u001b[1;32m     26 \u001b[1;33m\u001b[1;33m\u001b[0m\u001b[0m\n",
      "\u001b[0m\u001b[1;32m---> 27 \u001b[1;33m\u001b[0mpdb\u001b[0m\u001b[1;33m.\u001b[0m\u001b[0mset_trace\u001b[0m\u001b[1;33m(\u001b[0m\u001b[1;33m)\u001b[0m\u001b[1;33m\u001b[0m\u001b[1;33m\u001b[0m\u001b[0m\n",
      "\u001b[0m\u001b[1;32m     28 \u001b[1;33m\u001b[1;31m#if dataset[word][i] >0. and dataset[other][i] ==0.:\u001b[0m\u001b[1;33m\u001b[0m\u001b[1;33m\u001b[0m\u001b[1;33m\u001b[0m\u001b[0m\n",
      "\u001b[0m\u001b[1;32m     29 \u001b[1;33m\u001b[1;33m\u001b[0m\u001b[0m\n",
      "\u001b[0m\n",
      "ipdb> np.logical_and(dat[word]>dat[other],dat['feedback_type']>0)\n",
      "array([False, False,  True,  True,  True, False, False,  True,  True,\n",
      "       False, False,  True,  True,  True, False,  True,  True,  True,\n",
      "       False,  True, False,  True, False, False, False, False, False,\n",
      "       False, False,  True, False, False, False, False, False, False,\n",
      "        True, False, False, False, False, False, False, False, False,\n",
      "       False, False, False, False, False, False, False, False,  True,\n",
      "        True,  True, False,  True, False, False, False, False,  True,\n",
      "       False,  True, False, False, False, False,  True, False, False,\n",
      "       False,  True,  True, False, False, False, False,  True,  True,\n",
      "       False,  True, False, False, False, False,  True, False, False,\n",
      "       False, False, False, False, False, False, False,  True,  True,\n",
      "       False, False, False,  True,  True, False, False, False, False,\n",
      "       False, False,  True, False, False, False, False, False, False,\n",
      "       False, False, False, False, False,  True, False, False, False,\n",
      "       False, False, False,  True,  True,  True, False, False,  True,\n",
      "       False, False, False, False, False, False, False, False,  True,\n",
      "       False,  True, False,  True, False, False,  True,  True, False,\n",
      "       False, False, False,  True, False, False, False, False,  True,\n",
      "        True, False, False, False, False, False,  True,  True, False,\n",
      "       False, False, False, False, False, False, False,  True,  True,\n",
      "       False, False, False, False, False, False, False, False, False,\n",
      "        True,  True,  True, False,  True, False, False, False, False,\n",
      "       False, False, False, False, False, False, False, False,  True,\n",
      "       False, False, False, False, False, False, False, False, False,\n",
      "       False, False, False,  True, False, False, False, False,  True,\n",
      "       False, False, False])\n",
      "ipdb> exit\n"
     ]
    },
    {
     "ename": "BdbQuit",
     "evalue": "",
     "output_type": "error",
     "traceback": [
      "\u001b[1;31m---------------------------------------------------------------------------\u001b[0m",
      "\u001b[1;31mBdbQuit\u001b[0m                                   Traceback (most recent call last)",
      "\u001b[1;32m<ipython-input-11-6f11b2351bc1>\u001b[0m in \u001b[0;36m<module>\u001b[1;34m\u001b[0m\n\u001b[0;32m     25\u001b[0m \u001b[1;31m#datter=datter[:,dat['feedback_type']>0]\u001b[0m\u001b[1;33m\u001b[0m\u001b[1;33m\u001b[0m\u001b[1;33m\u001b[0m\u001b[0m\n\u001b[0;32m     26\u001b[0m \u001b[1;33m\u001b[0m\u001b[0m\n\u001b[1;32m---> 27\u001b[1;33m \u001b[0mpdb\u001b[0m\u001b[1;33m.\u001b[0m\u001b[0mset_trace\u001b[0m\u001b[1;33m(\u001b[0m\u001b[1;33m)\u001b[0m\u001b[1;33m\u001b[0m\u001b[1;33m\u001b[0m\u001b[0m\n\u001b[0m\u001b[0;32m     28\u001b[0m \u001b[1;31m#if dataset[word][i] >0. and dataset[other][i] ==0.:\u001b[0m\u001b[1;33m\u001b[0m\u001b[1;33m\u001b[0m\u001b[1;33m\u001b[0m\u001b[0m\n\u001b[0;32m     29\u001b[0m \u001b[1;33m\u001b[0m\u001b[0m\n",
      "\u001b[1;32m~\\.conda\\envs\\nma\\lib\\bdb.py\u001b[0m in \u001b[0;36mtrace_dispatch\u001b[1;34m(self, frame, event, arg)\u001b[0m\n\u001b[0;32m     90\u001b[0m             \u001b[1;32mreturn\u001b[0m \u001b[0mself\u001b[0m\u001b[1;33m.\u001b[0m\u001b[0mdispatch_call\u001b[0m\u001b[1;33m(\u001b[0m\u001b[0mframe\u001b[0m\u001b[1;33m,\u001b[0m \u001b[0marg\u001b[0m\u001b[1;33m)\u001b[0m\u001b[1;33m\u001b[0m\u001b[1;33m\u001b[0m\u001b[0m\n\u001b[0;32m     91\u001b[0m         \u001b[1;32mif\u001b[0m \u001b[0mevent\u001b[0m \u001b[1;33m==\u001b[0m \u001b[1;34m'return'\u001b[0m\u001b[1;33m:\u001b[0m\u001b[1;33m\u001b[0m\u001b[1;33m\u001b[0m\u001b[0m\n\u001b[1;32m---> 92\u001b[1;33m             \u001b[1;32mreturn\u001b[0m \u001b[0mself\u001b[0m\u001b[1;33m.\u001b[0m\u001b[0mdispatch_return\u001b[0m\u001b[1;33m(\u001b[0m\u001b[0mframe\u001b[0m\u001b[1;33m,\u001b[0m \u001b[0marg\u001b[0m\u001b[1;33m)\u001b[0m\u001b[1;33m\u001b[0m\u001b[1;33m\u001b[0m\u001b[0m\n\u001b[0m\u001b[0;32m     93\u001b[0m         \u001b[1;32mif\u001b[0m \u001b[0mevent\u001b[0m \u001b[1;33m==\u001b[0m \u001b[1;34m'exception'\u001b[0m\u001b[1;33m:\u001b[0m\u001b[1;33m\u001b[0m\u001b[1;33m\u001b[0m\u001b[0m\n\u001b[0;32m     94\u001b[0m             \u001b[1;32mreturn\u001b[0m \u001b[0mself\u001b[0m\u001b[1;33m.\u001b[0m\u001b[0mdispatch_exception\u001b[0m\u001b[1;33m(\u001b[0m\u001b[0mframe\u001b[0m\u001b[1;33m,\u001b[0m \u001b[0marg\u001b[0m\u001b[1;33m)\u001b[0m\u001b[1;33m\u001b[0m\u001b[1;33m\u001b[0m\u001b[0m\n",
      "\u001b[1;32m~\\.conda\\envs\\nma\\lib\\bdb.py\u001b[0m in \u001b[0;36mdispatch_return\u001b[1;34m(self, frame, arg)\u001b[0m\n\u001b[0;32m    152\u001b[0m             \u001b[1;32mfinally\u001b[0m\u001b[1;33m:\u001b[0m\u001b[1;33m\u001b[0m\u001b[1;33m\u001b[0m\u001b[0m\n\u001b[0;32m    153\u001b[0m                 \u001b[0mself\u001b[0m\u001b[1;33m.\u001b[0m\u001b[0mframe_returning\u001b[0m \u001b[1;33m=\u001b[0m \u001b[1;32mNone\u001b[0m\u001b[1;33m\u001b[0m\u001b[1;33m\u001b[0m\u001b[0m\n\u001b[1;32m--> 154\u001b[1;33m             \u001b[1;32mif\u001b[0m \u001b[0mself\u001b[0m\u001b[1;33m.\u001b[0m\u001b[0mquitting\u001b[0m\u001b[1;33m:\u001b[0m \u001b[1;32mraise\u001b[0m \u001b[0mBdbQuit\u001b[0m\u001b[1;33m\u001b[0m\u001b[1;33m\u001b[0m\u001b[0m\n\u001b[0m\u001b[0;32m    155\u001b[0m             \u001b[1;31m# The user issued a 'next' or 'until' command.\u001b[0m\u001b[1;33m\u001b[0m\u001b[1;33m\u001b[0m\u001b[1;33m\u001b[0m\u001b[0m\n\u001b[0;32m    156\u001b[0m             \u001b[1;32mif\u001b[0m \u001b[0mself\u001b[0m\u001b[1;33m.\u001b[0m\u001b[0mstopframe\u001b[0m \u001b[1;32mis\u001b[0m \u001b[0mframe\u001b[0m \u001b[1;32mand\u001b[0m \u001b[0mself\u001b[0m\u001b[1;33m.\u001b[0m\u001b[0mstoplineno\u001b[0m \u001b[1;33m!=\u001b[0m \u001b[1;33m-\u001b[0m\u001b[1;36m1\u001b[0m\u001b[1;33m:\u001b[0m\u001b[1;33m\u001b[0m\u001b[1;33m\u001b[0m\u001b[0m\n",
      "\u001b[1;31mBdbQuit\u001b[0m: "
     ]
    }
   ],
   "source": [
    "[session_id,neuron_id]=region_finder(\"VISp\")\n",
    "#dataset=alldat[session_id]\n",
    "#[new_ids]=what_side(dataset,'Contralateral')\n",
    "#session_idx ,neuron_idx = region_finder(region)\n",
    "storer=[]\n",
    "bins=0.01\n",
    "test=session_id[1]\n",
    "word='contrast_right'\n",
    "other='contrast_left'\n",
    "#for i in session_id:\n",
    "    #dat=alldat[test]\n",
    "    #barea=dat['brain_area']\n",
    "    #datter=dat['spks'][barea=='VISp']\n",
    "    #trial_FR = np.sum(datter, axis=0) / (np.shape(dat['spks'])[2] * bins / 1000)\n",
    "    #norm_FR = trial_FR/ np.mean(trial_FR) #array of normalized FR for each neuron in area on L or R choice trials (n_neurons x n_trials)\n",
    "    #print(norm_FR)\n",
    "    #pdb.set_trace()\n",
    "    #storer.append(norm_FR)\n",
    "dat=alldat[test]\n",
    "barea=dat['brain_area']\n",
    "datter=dat['spks'][barea=='VISp']\n",
    "#pdb.set_trace()\n",
    "\n",
    "datter=datter[:,np.logical_and(dat[word]>dat[other],dat['feedback_type']>0)]\n",
    "#datter=datter[:,dat['feedback_type']>0]\n",
    "\n",
    "pdb.set_trace()\n",
    "#if dataset[word][i] >0. and dataset[other][i] ==0.:\n",
    "\n",
    "trial_FR = np.sum(datter, axis=2) / (np.shape(dat['spks'])[2] * bins / 1000)\n",
    "norm_FR = trial_FR/ np.mean(trial_FR) #array of normalized FR for each neuron in area on L or R choice trials (n_neurons x n_trials)\n",
    "#print(norm_FR)\n",
    "#pdb.set_trace()\n",
    "#storer.append(norm_FR)\n",
    "\n",
    "\n",
    "#turn dat['spks'] into [n_neurons, n_trials] array of normalized firing rates on each trial\n",
    "#bins = 0.01 #10ms bins\n",
    "#trial_FR = np.sum(dat['spks'], axis=2) / (np.shape(dat['spks'])[2] * bins / 1000)\n",
    "#norm_FR = trial_FR[:,LorR] / np.mean(trial_FR) #array of normalized FR for each neuron in area on L or R choice trials (n_neurons x n_trials)\n",
    "    \n",
    "#print(neuron_id)"
   ]
  },
  {
   "cell_type": "code",
   "execution_count": 23,
   "metadata": {},
   "outputs": [
    {
     "ename": "ModuleNotFoundError",
     "evalue": "No module named 'pypi'",
     "output_type": "error",
     "traceback": [
      "\u001b[1;31m---------------------------------------------------------------------------\u001b[0m",
      "\u001b[1;31mModuleNotFoundError\u001b[0m                       Traceback (most recent call last)",
      "\u001b[1;32m<ipython-input-23-f61e51b2326e>\u001b[0m in \u001b[0;36m<module>\u001b[1;34m\u001b[0m\n\u001b[1;32m----> 1\u001b[1;33m \u001b[1;32mimport\u001b[0m \u001b[0mpypi\u001b[0m\u001b[1;33m\u001b[0m\u001b[1;33m\u001b[0m\u001b[0m\n\u001b[0m\u001b[0;32m      2\u001b[0m \u001b[1;31m#def ismember(A, B):\u001b[0m\u001b[1;33m\u001b[0m\u001b[1;33m\u001b[0m\u001b[1;33m\u001b[0m\u001b[0m\n\u001b[0;32m      3\u001b[0m \u001b[1;31m#    return [ np.sum(a == B) for a in A ]\u001b[0m\u001b[1;33m\u001b[0m\u001b[1;33m\u001b[0m\u001b[1;33m\u001b[0m\u001b[0m\n",
      "\u001b[1;31mModuleNotFoundError\u001b[0m: No module named 'pypi'"
     ]
    }
   ],
   "source": [
    "#import pypi\n",
    "def ismember(A, B):\n",
    "    return [ np.sum(a == B) for a in A ]"
   ]
  },
  {
   "cell_type": "code",
   "execution_count": 25,
   "metadata": {},
   "outputs": [
    {
     "name": "stdout",
     "output_type": "stream",
     "text": [
      "[0, 2, 3, 7, 9, 11, 13, 19, 21, 24, 25, 38]\n",
      "[4, 7, 8, 11, 12, 21, 24, 26, 35, 38, 0, 3, 4, 7, 11, 12, 13, 21, 24, 25, 26, 29, 30, 31, 34, 35, 36, 38, 6, 10, 17, 28, 32, 17, 30, 32, 37, 12, 14, 17, 32, 9, 12, 13, 30, 31, 35, 36]\n",
      "[0, 3, 38, 7, 9, 11, 13, 21, 24, 25]\n"
     ]
    }
   ],
   "source": [
    "[session_id,neuron_id]=region_finder(\"VISp\")\n",
    "[session_idone,neuron_idone]=region_finder(\"PL\")\n",
    "[session_idtwo,neuron_idtwo]=region_finder(\"MOs\")\n",
    "[session_idthree,neuron_idthree]=region_finder(\"CP\")\n",
    "[session_idfour,neuron_idfour]=region_finder(\"SNr\")\n",
    "[session_idfive,neuron_idfive]=region_finder(\"ZI\")\n",
    "[session_idsix,neuron_idsix]=region_finder(\"SCm\")\n",
    "\n",
    "newone=[]\n",
    "newone.append(session_idone)\n",
    "newone.append(session_idtwo)\n",
    "newone.append(session_idthree)\n",
    "newone.append(session_idfour)\n",
    "newone.append(session_idfive)\n",
    "newone.append(session_idsix)\n",
    "\n",
    "\n",
    "newone=sum(newone,[])\n",
    "print(session_id)\n",
    "print(newone)\n",
    "\n",
    "#ismember(session_id,newone)\n",
    "apple=list(set(session_id) & set(newone))\n",
    "print(apple)\n"
   ]
  },
  {
   "cell_type": "code",
   "execution_count": 14,
   "metadata": {},
   "outputs": [
    {
     "name": "stdout",
     "output_type": "stream",
     "text": [
      "None\n",
      "> \u001b[1;32m<ipython-input-14-45359305a8d2>\u001b[0m(17)\u001b[0;36m<module>\u001b[1;34m()\u001b[0m\n",
      "\u001b[1;32m     15 \u001b[1;33m\u001b[1;32mfor\u001b[0m \u001b[0mi\u001b[0m \u001b[1;32min\u001b[0m \u001b[0mrange\u001b[0m\u001b[1;33m(\u001b[0m\u001b[0mlen\u001b[0m\u001b[1;33m(\u001b[0m\u001b[0msession_id\u001b[0m\u001b[1;33m[\u001b[0m\u001b[1;33m:\u001b[0m\u001b[1;33m]\u001b[0m\u001b[1;33m)\u001b[0m\u001b[1;33m)\u001b[0m\u001b[1;33m:\u001b[0m\u001b[1;33m\u001b[0m\u001b[1;33m\u001b[0m\u001b[0m\n",
      "\u001b[0m\u001b[1;32m     16 \u001b[1;33m    \u001b[0mpdb\u001b[0m\u001b[1;33m.\u001b[0m\u001b[0mset_trace\u001b[0m\u001b[1;33m(\u001b[0m\u001b[1;33m)\u001b[0m\u001b[1;33m\u001b[0m\u001b[1;33m\u001b[0m\u001b[0m\n",
      "\u001b[0m\u001b[1;32m---> 17 \u001b[1;33m    \u001b[1;32mif\u001b[0m \u001b[0many\u001b[0m\u001b[1;33m(\u001b[0m\u001b[0msession_id\u001b[0m\u001b[1;33m[\u001b[0m\u001b[0mi\u001b[0m\u001b[1;33m]\u001b[0m\u001b[1;33m==\u001b[0m\u001b[0msession_idone\u001b[0m\u001b[1;33m)\u001b[0m\u001b[1;33m:\u001b[0m\u001b[1;33m\u001b[0m\u001b[1;33m\u001b[0m\u001b[0m\n",
      "\u001b[0m\u001b[1;32m     18 \u001b[1;33m        \u001b[0mholdon\u001b[0m\u001b[1;33m.\u001b[0m\u001b[0mappend\u001b[0m\u001b[1;33m(\u001b[0m\u001b[0msession_id\u001b[0m\u001b[1;33m[\u001b[0m\u001b[0mi\u001b[0m\u001b[1;33m]\u001b[0m\u001b[1;33m)\u001b[0m\u001b[1;33m\u001b[0m\u001b[1;33m\u001b[0m\u001b[0m\n",
      "\u001b[0m\u001b[1;32m     19 \u001b[1;33m\u001b[1;33m\u001b[0m\u001b[0m\n",
      "\u001b[0m\n",
      "ipdb> i\n",
      "0\n",
      "ipdb> session_idone\n",
      "[4, 7, 8, 11, 12, 21, 24, 26, 35, 38, [0, 3, 4, 7, 11, 12, 13, 21, 24, 25, 26, 29, 30, 31, 34, 35, 36, 38], [6, 10, 17, 28, 32], [17, 30, 32, 37], [12, 14, 17, 32], [9, 12, 13, 30, 31, 35, 36]]\n",
      "ipdb> session_id\n",
      "[0, 2, 3, 7, 9, 11, 13, 19, 21, 24, 25, 38]\n",
      "ipdb> session_id[i]\n",
      "0\n",
      "ipdb> session_id[i]==session_idone\n",
      "False\n",
      "ipdb> session_id[3]==session_idone\n",
      "False\n",
      "ipdb> session_idtwo\n",
      "[0, 3, 4, 7, 11, 12, 13, 21, 24, 25, 26, 29, 30, 31, 34, 35, 36, 38]\n",
      "ipdb> type(session_idtwo)\n",
      "<class 'list'>\n",
      "ipdb> exit\n"
     ]
    },
    {
     "ename": "BdbQuit",
     "evalue": "",
     "output_type": "error",
     "traceback": [
      "\u001b[1;31m---------------------------------------------------------------------------\u001b[0m",
      "\u001b[1;31mBdbQuit\u001b[0m                                   Traceback (most recent call last)",
      "\u001b[1;32m<ipython-input-14-45359305a8d2>\u001b[0m in \u001b[0;36m<module>\u001b[1;34m\u001b[0m\n\u001b[0;32m     15\u001b[0m \u001b[1;32mfor\u001b[0m \u001b[0mi\u001b[0m \u001b[1;32min\u001b[0m \u001b[0mrange\u001b[0m\u001b[1;33m(\u001b[0m\u001b[0mlen\u001b[0m\u001b[1;33m(\u001b[0m\u001b[0msession_id\u001b[0m\u001b[1;33m[\u001b[0m\u001b[1;33m:\u001b[0m\u001b[1;33m]\u001b[0m\u001b[1;33m)\u001b[0m\u001b[1;33m)\u001b[0m\u001b[1;33m:\u001b[0m\u001b[1;33m\u001b[0m\u001b[1;33m\u001b[0m\u001b[0m\n\u001b[0;32m     16\u001b[0m     \u001b[0mpdb\u001b[0m\u001b[1;33m.\u001b[0m\u001b[0mset_trace\u001b[0m\u001b[1;33m(\u001b[0m\u001b[1;33m)\u001b[0m\u001b[1;33m\u001b[0m\u001b[1;33m\u001b[0m\u001b[0m\n\u001b[1;32m---> 17\u001b[1;33m     \u001b[1;32mif\u001b[0m \u001b[0many\u001b[0m\u001b[1;33m(\u001b[0m\u001b[0msession_id\u001b[0m\u001b[1;33m[\u001b[0m\u001b[0mi\u001b[0m\u001b[1;33m]\u001b[0m\u001b[1;33m==\u001b[0m\u001b[0msession_idone\u001b[0m\u001b[1;33m)\u001b[0m\u001b[1;33m:\u001b[0m\u001b[1;33m\u001b[0m\u001b[1;33m\u001b[0m\u001b[0m\n\u001b[0m\u001b[0;32m     18\u001b[0m         \u001b[0mholdon\u001b[0m\u001b[1;33m.\u001b[0m\u001b[0mappend\u001b[0m\u001b[1;33m(\u001b[0m\u001b[0msession_id\u001b[0m\u001b[1;33m[\u001b[0m\u001b[0mi\u001b[0m\u001b[1;33m]\u001b[0m\u001b[1;33m)\u001b[0m\u001b[1;33m\u001b[0m\u001b[1;33m\u001b[0m\u001b[0m\n\u001b[0;32m     19\u001b[0m \u001b[1;33m\u001b[0m\u001b[0m\n",
      "\u001b[1;32m<ipython-input-14-45359305a8d2>\u001b[0m in \u001b[0;36m<module>\u001b[1;34m\u001b[0m\n\u001b[0;32m     15\u001b[0m \u001b[1;32mfor\u001b[0m \u001b[0mi\u001b[0m \u001b[1;32min\u001b[0m \u001b[0mrange\u001b[0m\u001b[1;33m(\u001b[0m\u001b[0mlen\u001b[0m\u001b[1;33m(\u001b[0m\u001b[0msession_id\u001b[0m\u001b[1;33m[\u001b[0m\u001b[1;33m:\u001b[0m\u001b[1;33m]\u001b[0m\u001b[1;33m)\u001b[0m\u001b[1;33m)\u001b[0m\u001b[1;33m:\u001b[0m\u001b[1;33m\u001b[0m\u001b[1;33m\u001b[0m\u001b[0m\n\u001b[0;32m     16\u001b[0m     \u001b[0mpdb\u001b[0m\u001b[1;33m.\u001b[0m\u001b[0mset_trace\u001b[0m\u001b[1;33m(\u001b[0m\u001b[1;33m)\u001b[0m\u001b[1;33m\u001b[0m\u001b[1;33m\u001b[0m\u001b[0m\n\u001b[1;32m---> 17\u001b[1;33m     \u001b[1;32mif\u001b[0m \u001b[0many\u001b[0m\u001b[1;33m(\u001b[0m\u001b[0msession_id\u001b[0m\u001b[1;33m[\u001b[0m\u001b[0mi\u001b[0m\u001b[1;33m]\u001b[0m\u001b[1;33m==\u001b[0m\u001b[0msession_idone\u001b[0m\u001b[1;33m)\u001b[0m\u001b[1;33m:\u001b[0m\u001b[1;33m\u001b[0m\u001b[1;33m\u001b[0m\u001b[0m\n\u001b[0m\u001b[0;32m     18\u001b[0m         \u001b[0mholdon\u001b[0m\u001b[1;33m.\u001b[0m\u001b[0mappend\u001b[0m\u001b[1;33m(\u001b[0m\u001b[0msession_id\u001b[0m\u001b[1;33m[\u001b[0m\u001b[0mi\u001b[0m\u001b[1;33m]\u001b[0m\u001b[1;33m)\u001b[0m\u001b[1;33m\u001b[0m\u001b[1;33m\u001b[0m\u001b[0m\n\u001b[0;32m     19\u001b[0m \u001b[1;33m\u001b[0m\u001b[0m\n",
      "\u001b[1;32m~\\.conda\\envs\\nma\\lib\\bdb.py\u001b[0m in \u001b[0;36mtrace_dispatch\u001b[1;34m(self, frame, event, arg)\u001b[0m\n\u001b[0;32m     86\u001b[0m             \u001b[1;32mreturn\u001b[0m \u001b[1;31m# None\u001b[0m\u001b[1;33m\u001b[0m\u001b[1;33m\u001b[0m\u001b[0m\n\u001b[0;32m     87\u001b[0m         \u001b[1;32mif\u001b[0m \u001b[0mevent\u001b[0m \u001b[1;33m==\u001b[0m \u001b[1;34m'line'\u001b[0m\u001b[1;33m:\u001b[0m\u001b[1;33m\u001b[0m\u001b[1;33m\u001b[0m\u001b[0m\n\u001b[1;32m---> 88\u001b[1;33m             \u001b[1;32mreturn\u001b[0m \u001b[0mself\u001b[0m\u001b[1;33m.\u001b[0m\u001b[0mdispatch_line\u001b[0m\u001b[1;33m(\u001b[0m\u001b[0mframe\u001b[0m\u001b[1;33m)\u001b[0m\u001b[1;33m\u001b[0m\u001b[1;33m\u001b[0m\u001b[0m\n\u001b[0m\u001b[0;32m     89\u001b[0m         \u001b[1;32mif\u001b[0m \u001b[0mevent\u001b[0m \u001b[1;33m==\u001b[0m \u001b[1;34m'call'\u001b[0m\u001b[1;33m:\u001b[0m\u001b[1;33m\u001b[0m\u001b[1;33m\u001b[0m\u001b[0m\n\u001b[0;32m     90\u001b[0m             \u001b[1;32mreturn\u001b[0m \u001b[0mself\u001b[0m\u001b[1;33m.\u001b[0m\u001b[0mdispatch_call\u001b[0m\u001b[1;33m(\u001b[0m\u001b[0mframe\u001b[0m\u001b[1;33m,\u001b[0m \u001b[0marg\u001b[0m\u001b[1;33m)\u001b[0m\u001b[1;33m\u001b[0m\u001b[1;33m\u001b[0m\u001b[0m\n",
      "\u001b[1;32m~\\.conda\\envs\\nma\\lib\\bdb.py\u001b[0m in \u001b[0;36mdispatch_line\u001b[1;34m(self, frame)\u001b[0m\n\u001b[0;32m    111\u001b[0m         \u001b[1;32mif\u001b[0m \u001b[0mself\u001b[0m\u001b[1;33m.\u001b[0m\u001b[0mstop_here\u001b[0m\u001b[1;33m(\u001b[0m\u001b[0mframe\u001b[0m\u001b[1;33m)\u001b[0m \u001b[1;32mor\u001b[0m \u001b[0mself\u001b[0m\u001b[1;33m.\u001b[0m\u001b[0mbreak_here\u001b[0m\u001b[1;33m(\u001b[0m\u001b[0mframe\u001b[0m\u001b[1;33m)\u001b[0m\u001b[1;33m:\u001b[0m\u001b[1;33m\u001b[0m\u001b[1;33m\u001b[0m\u001b[0m\n\u001b[0;32m    112\u001b[0m             \u001b[0mself\u001b[0m\u001b[1;33m.\u001b[0m\u001b[0muser_line\u001b[0m\u001b[1;33m(\u001b[0m\u001b[0mframe\u001b[0m\u001b[1;33m)\u001b[0m\u001b[1;33m\u001b[0m\u001b[1;33m\u001b[0m\u001b[0m\n\u001b[1;32m--> 113\u001b[1;33m             \u001b[1;32mif\u001b[0m \u001b[0mself\u001b[0m\u001b[1;33m.\u001b[0m\u001b[0mquitting\u001b[0m\u001b[1;33m:\u001b[0m \u001b[1;32mraise\u001b[0m \u001b[0mBdbQuit\u001b[0m\u001b[1;33m\u001b[0m\u001b[1;33m\u001b[0m\u001b[0m\n\u001b[0m\u001b[0;32m    114\u001b[0m         \u001b[1;32mreturn\u001b[0m \u001b[0mself\u001b[0m\u001b[1;33m.\u001b[0m\u001b[0mtrace_dispatch\u001b[0m\u001b[1;33m\u001b[0m\u001b[1;33m\u001b[0m\u001b[0m\n\u001b[0;32m    115\u001b[0m \u001b[1;33m\u001b[0m\u001b[0m\n",
      "\u001b[1;31mBdbQuit\u001b[0m: "
     ]
    }
   ],
   "source": [
    "[session_id,neuron_id]=region_finder(\"VISp\")\n",
    "[session_idone,neuron_idone]=region_finder(\"PL\")\n",
    "[session_idtwo,neuron_idtwo]=region_finder(\"MOs\")\n",
    "[session_idthree,neuron_idthree]=region_finder(\"CP\")\n",
    "[session_idfour,neuron_idfour]=region_finder(\"SNr\")\n",
    "[session_idfive,neuron_idfive]=region_finder(\"ZI\")\n",
    "[session_idsix,neuron_idsix]=region_finder(\"SCm\")\n",
    "\n",
    "newone=[]\n",
    "newone.append(session_idone)\n",
    "newone.append(session_idtwo)\n",
    "newone.append(session_idthree)\n",
    "newone.append(session_idfour)\n",
    "newone.append(session_idfive)\n",
    "newone.append(session_idsix)\n",
    "\n",
    "\n",
    "newone=sum(newone,[])\n",
    "print(session_id)\n",
    "print(newone)\n",
    "apple=list(set(session_id) & set(newone))\n",
    "print(apple)\n",
    "\n",
    "\n",
    "#pdb.set_trace()\n",
    "#dataset=alldat[session_id]\n",
    "#[new_ids]=what_side(dataset,'Contralateral')\n",
    "#session_idx ,neuron_idx = region_finder(region)\n",
    "storer=[]\n",
    "bins=0.01\n",
    "test=session_id[1]\n",
    "word='contrast_right'\n",
    "other='contrast_left'\n",
    "#for i in session_id:\n",
    "    #dat=alldat[test]\n",
    "    #barea=dat['brain_area']\n",
    "    #datter=dat['spks'][barea=='VISp']\n",
    "    #trial_FR = np.sum(datter, axis=0) / (np.shape(dat['spks'])[2] * bins / 1000)\n",
    "    #norm_FR = trial_FR/ np.mean(trial_FR) #array of normalized FR for each neuron in area on L or R choice trials (n_neurons x n_trials)\n",
    "    #print(norm_FR)\n",
    "    #pdb.set_trace()\n",
    "    #storer.append(norm_FR)\n",
    "dat=alldat[test]\n",
    "barea=dat['brain_area']\n",
    "datter=dat['spks'][barea=='VISp']\n",
    "#pdb.set_trace()\n",
    "\n",
    "datter=datter[:,np.logical_and(dat[word]>dat[other],dat['feedback_type']>0)]\n",
    "#datter=datter[:,dat['feedback_type']>0]\n",
    "\n",
    "pdb.set_trace()\n",
    "#if dataset[word][i] >0. and dataset[other][i] ==0.:\n",
    "\n",
    "trial_FR = np.sum(datter, axis=2) / (np.shape(dat['spks'])[2] * bins / 1000)\n",
    "norm_FR = trial_FR/ np.mean(trial_FR) #array of normalized FR for each neuron in area on L or R choice trials (n_neurons x n_trials)\n",
    "#print(norm_FR)\n",
    "#pdb.set_trace()\n",
    "#storer.append(norm_FR)\n",
    "\n",
    "\n",
    "#turn dat['spks'] into [n_neurons, n_trials] array of normalized firing rates on each trial\n",
    "#bins = 0.01 #10ms bins\n",
    "#trial_FR = np.sum(dat['spks'], axis=2) / (np.shape(dat['spks'])[2] * bins / 1000)\n",
    "#norm_FR = trial_FR[:,LorR] / np.mean(trial_FR) #array of normalized FR for each neuron in area on L or R choice trials (n_neurons x n_trials)\n",
    "    \n",
    "#print(neuron_id)"
   ]
  },
  {
   "cell_type": "code",
   "execution_count": 34,
   "metadata": {},
   "outputs": [
    {
     "data": {
      "text/plain": [
       "[<matplotlib.lines.Line2D at 0x14f153c0308>]"
      ]
     },
     "execution_count": 34,
     "metadata": {},
     "output_type": "execute_result"
    }
   ],
   "source": [
    "plt.plot(range(214),)"
   ]
  },
  {
   "cell_type": "code",
   "execution_count": 46,
   "metadata": {},
   "outputs": [
    {
     "name": "stdout",
     "output_type": "stream",
     "text": [
      "(228, 250)\n",
      "()\n"
     ]
    }
   ],
   "source": [
    "print(np.shape(norm_FR))\n",
    "print(np.shape(dat))"
   ]
  },
  {
   "cell_type": "code",
   "execution_count": 22,
   "metadata": {},
   "outputs": [],
   "source": [
    "\n",
    "def getChoiceCells(dat):\n",
    "    #make array of choices. left choices = 1, right choices = 0, ignore no-go trials\n",
    "    LorR = dat['response']!=0 \n",
    "    choices = dat['response'][LorR]\n",
    "    choices[choices == -1] = 0\n",
    "    \n",
    "    #turn dat['spks'] into [n_neurons, n_trials] array of normalized firing rates on each trial\n",
    "    bins = 0.01 #10ms bins\n",
    "    trial_FR = np.sum(dat['spks'], axis=2) / (np.shape(dat['spks'])[2] * bins / 1000)\n",
    "    norm_FR = trial_FR[:,LorR] / np.mean(trial_FR) #array of normalized FR for each neuron in area on L or R choice trials (n_neurons x n_trials)\n",
    "    \n",
    "    # Define logistic regression model\n",
    "    log_reg = LogisticRegression(penalty=\"none\").fit(norm_FR.T, choices)\n",
    "    y_pred = log_reg.predict(norm_FR.T)\n",
    "    accuracy = (choices == y_pred).mean()\n",
    "    \n",
    "    most_predictive = np.quantile(log_reg.coef_, [0.10, 0.90])\n",
    "    ispi_cells = log_reg.coef_ > most_predictive[1]\n",
    "    contra_cells = log_reg.coef_ < most_predictive[0]\n",
    "    \n",
    "    return ispi_cells, contra_cells\n",
    "\n",
    "def plot_weights(models, sharey=True):\n",
    "    \"\"\"Draw a stem plot of weights for each model in models dict.\"\"\"\n",
    "    n = len(models)\n",
    "    f = plt.figure(figsize=(10, 2.5 * n))\n",
    "    axs = f.subplots(n, sharex=True, sharey=sharey)\n",
    "    axs = np.atleast_1d(axs)\n",
    "\n",
    "    for ax, (title, model) in zip(axs, models.items()):\n",
    "\n",
    "        ax.margins(x=.02)\n",
    "        stem = ax.stem(model.coef_.squeeze(), use_line_collection=True)\n",
    "        stem[0].set_marker(\".\")\n",
    "        stem[0].set_color(\".2\")\n",
    "        stem[1].set_linewidths(.5)\n",
    "        stem[1].set_color(\".2\")\n",
    "        stem[2].set_visible(False)\n",
    "        ax.axhline(0, color=\"C3\", lw=3)\n",
    "        ax.set(ylabel=\"Weight\", title=title)\n",
    "    ax.set(xlabel=\"Neuron (a.k.a. feature)\")\n",
    "    f.tight_layout()"
   ]
  },
  {
   "cell_type": "code",
   "execution_count": null,
   "metadata": {},
   "outputs": [],
   "source": [
    "# to_remove solution\n",
    "\n",
    "\n",
    "def make_design_matrix(stim, d=25):\n",
    "  \"\"\"Create time-lag design matrix from stimulus intensity vector.\n",
    "\n",
    "  Args:\n",
    "    stim (1D array): Stimulus intensity at each time point.\n",
    "    d (number): Number of time lags to use.\n",
    "\n",
    "  Returns\n",
    "    X (2D array): GLM design matrix with shape T, d\n",
    "\n",
    "  \"\"\"\n",
    "  # Create version of stimulus vector with zeros before onset\n",
    "  padded_stim = np.concatenate([np.zeros(d - 1), stim])\n",
    "\n",
    "  # Construct a matrix where each row has the d frames of\n",
    "  # the stimulus proceeding and including timepoint t\n",
    "  T = len(stim)  # Total number of timepoints (hint: number of stimulus frames)\n",
    "  X = np.zeros((T, d))\n",
    "  for t in range(T):\n",
    "      X[t] = padded_stim[t:t + d]\n",
    "\n",
    "  return X\n",
    "\n",
    "\n",
    "# Make design matrix\n",
    "X = make_design_matrix(stim)\n",
    "\n",
    "# Visualize\n",
    "with plt.xkcd():\n",
    "  plot_glm_matrices(X, spikes, nt=50)"
   ]
  },
  {
   "cell_type": "code",
   "execution_count": null,
   "metadata": {},
   "outputs": [],
   "source": []
  },
  {
   "cell_type": "code",
   "execution_count": 20,
   "metadata": {
    "colab": {
     "base_uri": "https://localhost:8080/",
     "height": 287
    },
    "colab_type": "code",
    "id": "lqMJRWZM2haT",
    "outputId": "b3372cf9-bd9b-4203-db49-1742cba69855"
   },
   "outputs": [],
   "source": [
    "#@title plots by brain region and visual conditions\n",
    "for j in range(nareas):\n",
    "  ax = plt.subplot(1,nareas,j+1)\n",
    "  \n",
    "  plt.plot(1/dt *  dat['spks'][barea==j][:,np.logical_and(vis_left==0, vis_right>0)].mean(axis=(0,1)))\n",
    "  plt.plot(1/dt *  dat['spks'][barea==j][:,np.logical_and(vis_left>0 , vis_right==0)].mean(axis=(0,1)))\n",
    "  plt.plot(1/dt *  dat['spks'][barea==j][:,np.logical_and(vis_left==0 , vis_right==0)].mean(axis=(0,1)))\n",
    "  plt.plot(1/dt *  dat['spks'][barea==j][:,np.logical_and(vis_left>0, vis_right>0)].mean(axis=(0,1)))  \n",
    "  plt.text(.25, .92, 'n=%d'%np.sum(barea==j), transform=ax.transAxes)\n",
    " \n",
    "  if j==0:\n",
    "    plt.legend(['right only', 'left only', 'neither', 'both'], fontsize=12)\n",
    "  ax.set(xlabel = 'binned time', ylabel = 'mean firing rate (Hz)', title = regions[j])\n"
   ]
  },
  {
   "cell_type": "code",
   "execution_count": 7,
   "metadata": {
    "colab": {
     "base_uri": "https://localhost:8080/",
     "height": 287
    },
    "colab_type": "code",
    "id": "vQA2tqAr-WSO",
    "outputId": "0a9f0f9e-2d15-4071-b4bf-cb9c0c689bfe"
   },
   "outputs": [],
   "source": [
    "#@title plots by brain region and response type\n",
    "for j in range(nareas):\n",
    "  ax = plt.subplot(1,nareas,j+1)\n",
    "  plt.title(regions[j])\n",
    "  if np.sum(barea==j)==0:\n",
    "    continue\n",
    "  plt.plot(1/dt * dat['spks'][barea==j][:,response<0].mean(axis=(0,1)))  \n",
    "  plt.plot(1/dt * dat['spks'][barea==j][:,response>0].mean(axis=(0,1)))\n",
    "  plt.plot(1/dt * dat['spks'][barea==j][:,response==0].mean(axis=(0,1)))\n",
    " \n",
    "  if j==0:\n",
    "    plt.legend(['resp = left', 'resp = right', 'resp = none'], fontsize=12)\n",
    "  ax.set(xlabel = 'time', ylabel = 'mean firing rate (Hz)')\n"
   ]
  },
  {
   "cell_type": "code",
   "execution_count": 8,
   "metadata": {
    "colab": {},
    "colab_type": "code",
    "id": "vk69J9u-AV-2"
   },
   "outputs": [],
   "source": [
    "#@title top PC directions from stimulus + response period, with projections of the entire duration\n",
    "from sklearn.decomposition import PCA \n",
    "\n",
    "droll = np.reshape(dat['spks'][:,:,51:130], (NN,-1)) # first 80 bins = 1.6 sec\n",
    "droll = droll - np.mean(droll, axis=1)[:, np.newaxis]\n",
    "model = PCA(n_components = 5).fit(droll.T)\n",
    "W = model.components_\n",
    "pc_10ms = W @ np.reshape(dat['spks'], (NN,-1))\n",
    "pc_10ms = np.reshape(pc_10ms, (5, -1, NT))"
   ]
  },
  {
   "cell_type": "code",
   "execution_count": 9,
   "metadata": {
    "colab": {
     "base_uri": "https://localhost:8080/",
     "height": 430
    },
    "colab_type": "code",
    "id": "VmAKoW85hZz7",
    "outputId": "0e2e1e43-1016-4b2a-a277-6cf31d34778a"
   },
   "outputs": [],
   "source": [
    "#@title The top PCs capture most variance across the brain. What do they care about? \n",
    "plt.figure(figsize= (20, 6))\n",
    "for j in range(len(pc_10ms)):\n",
    "  ax = plt.subplot(2,len(pc_10ms)+1,j+1)\n",
    "  pc1 = pc_10ms[j]\n",
    "\n",
    "  plt.plot(pc1[np.logical_and(vis_left==0, vis_right>0), :].mean(axis=0))  \n",
    "  plt.plot(pc1[np.logical_and(vis_left>0, vis_right==0), :].mean(axis=0))\n",
    "  plt.plot(pc1[np.logical_and(vis_left==0, vis_right==0), :].mean(axis=0))\n",
    "  plt.plot(pc1[np.logical_and(vis_left>0, vis_right>0), :].mean(axis=0))\n",
    "   \n",
    "  if j==0:\n",
    "    plt.legend(['right only', 'left only', 'neither', 'both'], fontsize=8)\n",
    "  ax.set(xlabel = 'binned time', ylabel = 'mean firing rate (Hz)')\n",
    "  plt.title('PC %d'%j)\n",
    "\n",
    "  ax = plt.subplot(2,len(pc_10ms)+1,len(pc_10ms)+1 + j+1)\n",
    "  \n",
    "  plt.plot(pc1[response>0, :].mean(axis=0))  \n",
    "  plt.plot(pc1[response<0, :].mean(axis=0))\n",
    "  plt.plot(pc1[response==0, :].mean(axis=0))\n",
    "\n",
    "  if j==0:\n",
    "    plt.legend(['resp = left', 'resp = right', 'resp = none'], fontsize=8)\n",
    "  ax.set(xlabel = 'binned time', ylabel = 'mean firing rate (Hz)')\n",
    "  plt.title('PC %d'%j)"
   ]
  },
  {
   "cell_type": "code",
   "execution_count": 10,
   "metadata": {
    "colab": {
     "base_uri": "https://localhost:8080/",
     "height": 287
    },
    "colab_type": "code",
    "id": "6QZ-eFRwj3at",
    "outputId": "a5fe0081-a0db-401a-cab0-c68542e111af"
   },
   "outputs": [],
   "source": [
    "#@title now sort all trials by response latency and see if the PCs care about that.\n",
    "from scipy.stats import zscore\n",
    "\n",
    "isort = np.argsort(dat['response_time'].flatten())\n",
    "\n",
    "for j in range(len(pc_10ms)):\n",
    "  ax = plt.subplot(1,len(pc_10ms)+1,j+1)\n",
    "  pc1 = zscore(pc_10ms[j])\n",
    "  plt.imshow(pc1[isort, :], aspect='auto', vmax=2, vmin = -2, cmap = 'gray')\n",
    "  ax.set(xlabel = 'binned time', ylabel = 'trials sorted by latency')\n",
    "  plt.title('PC %d'%j)"
   ]
  },
  {
   "cell_type": "code",
   "execution_count": 11,
   "metadata": {
    "colab": {
     "base_uri": "https://localhost:8080/",
     "height": 287
    },
    "colab_type": "code",
    "id": "C-90MWoY15kh",
    "outputId": "1e37699a-a8df-44d7-83c0-63dc3b5e7e83"
   },
   "outputs": [],
   "source": [
    "#@title correct vs incorrect trials\n",
    "# the following are the correct responses:\n",
    "# if vis_left > vis_right : response >0\n",
    "# if vis_left < vis_right : response <0\n",
    "# if vis_left = vis_right : response =0\n",
    "# trials below red line are incorrect\n",
    "is_correct = np.sign(response)==np.sign(vis_left-vis_right)\n",
    "\n",
    "# sort by correct, and then by response\n",
    "isort = np.argsort(-is_correct.astype('float32') + response/10) \n",
    "\n",
    "nwrong = np.sum(is_correct)\n",
    "for j in range(len(pc_10ms)):\n",
    "  ax = plt.subplot(1,len(pc_10ms)+1,j+1)\n",
    "  pc1 = zscore(pc_10ms[j])\n",
    "  plt.imshow(pc1[isort, :], aspect='auto', vmax=2, vmin = -2, cmap = 'gray')\n",
    "  ax.set(xlabel = 'binned time')\n",
    "  if j==0:\n",
    "    ax.set(ylabel = 'trials sorted by latency')  \n",
    "  plt.title('PC %d'%j)\n",
    "\n",
    "  plt.plot([0, NT], [nwrong, nwrong], 'r')\n"
   ]
  },
  {
   "cell_type": "code",
   "execution_count": 12,
   "metadata": {
    "colab": {
     "base_uri": "https://localhost:8080/",
     "height": 287
    },
    "colab_type": "code",
    "id": "2HgiWh4Vb2Su",
    "outputId": "388d3bac-69e2-4cb1-fc34-362fec266799"
   },
   "outputs": [],
   "source": [
    "# plot the behavioral data (pupil area is noisy because it's very small)\n",
    "\n",
    "ax = plt.subplot(1,5,1)\n",
    "plt.plot(dat['pupil'][0, :].mean(0));\n",
    "ax.set(ylabel='pupil area', xlabel = 'binned time', title='Pupil dynamics')\n",
    "\n",
    "yl = [-10, 10]\n",
    "ax = plt.subplot(1,5,2)\n",
    "plt.plot(dat['wheel'][0, response>0].mean(0));\n",
    "ax.set(ylim=yl)\n",
    "ax.set(ylim=yl, ylabel='wheel turns', xlabel = 'binned time', title='Left choices');\n",
    "\n",
    "ax = plt.subplot(1,5,3)\n",
    "plt.plot(dat['wheel'][0, response<0].mean(0));\n",
    "ax.set(ylim=yl)\n",
    "ax.set(ylim=yl, ylabel='wheel turns', xlabel = 'binned time', title='Right choices');\n",
    "\n",
    "ax = plt.subplot(1,5,4)\n",
    "plt.plot(dat['wheel'][0, response==0].mean(0));\n",
    "ax.set(ylim=yl, ylabel='wheel turns', xlabel = 'binned time', title='No go choices');\n"
   ]
  },
  {
   "cell_type": "code",
   "execution_count": 13,
   "metadata": {
    "colab": {
     "base_uri": "https://localhost:8080/",
     "height": 287
    },
    "colab_type": "code",
    "id": "9JkyGhv0xvCQ",
    "outputId": "a6cb9ec8-17ad-4f4c-b9f4-db561c20f009"
   },
   "outputs": [],
   "source": [
    "# plots by brain region and visual conditions for PASSIVE trials\n",
    "vis_left_p = dat['contrast_left_passive']\n",
    "vis_right_p = dat['contrast_right_passive']\n",
    "for j in range(nareas):\n",
    "  ax = plt.subplot(1,nareas,j+1)\n",
    "  plt.title(regions[j])\n",
    "  \n",
    "  plt.plot(1/dt *  dat['spks_passive'][barea==j][:,np.logical_and(vis_left_p==0, vis_right_p>0)].mean(axis=(0,1)))\n",
    "  plt.plot(1/dt *  dat['spks_passive'][barea==j][:,np.logical_and(vis_left_p>0 , vis_right_p==0)].mean(axis=(0,1)))\n",
    "  #plt.plot(1/dt *  dat['spks_passive'][barea==j][:,np.logical_and(vis_left_p==0 , vis_right_p==0)].mean(axis=(0,1)))\n",
    "  plt.plot(1/dt *  dat['spks_passive'][barea==j][:,np.logical_and(vis_left_p>0, vis_right_p>0)].mean(axis=(0,1)))  \n",
    "  plt.text(.25, .92, 'n=%d'%np.sum(barea==j), transform=ax.transAxes)\n",
    " \n",
    "  if j==0:\n",
    "    plt.legend(['right only', 'left only', 'both'], fontsize=12)\n",
    "  ax.set(xlabel = 'binned time', ylabel = 'mean firing rate (Hz)')"
   ]
  },
  {
   "cell_type": "code",
   "execution_count": 14,
   "metadata": {
    "colab": {},
    "colab_type": "code",
    "id": "WDb-nHAi3l3i"
   },
   "outputs": [],
   "source": [
    "# for more variables check out the additional notebook (load_steinmetz_extra) which includes LFP, waveform shapes and exact spike times (non-binned)"
   ]
  },
  {
   "cell_type": "code",
   "execution_count": null,
   "metadata": {},
   "outputs": [],
   "source": []
  }
 ],
 "metadata": {
  "colab": {
   "collapsed_sections": [],
   "name": "load_steinmetz_decisions.ipynb",
   "provenance": [],
   "toc_visible": true
  },
  "kernelspec": {
   "display_name": "Python 3",
   "language": "python",
   "name": "python3"
  },
  "language_info": {
   "codemirror_mode": {
    "name": "ipython",
    "version": 3
   },
   "file_extension": ".py",
   "mimetype": "text/x-python",
   "name": "python",
   "nbconvert_exporter": "python",
   "pygments_lexer": "ipython3",
   "version": "3.7.10"
  }
 },
 "nbformat": 4,
 "nbformat_minor": 1
}
